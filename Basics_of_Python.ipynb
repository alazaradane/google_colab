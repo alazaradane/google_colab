{
  "nbformat": 4,
  "nbformat_minor": 0,
  "metadata": {
    "colab": {
      "provenance": [],
      "include_colab_link": true
    },
    "kernelspec": {
      "name": "python3",
      "display_name": "Python 3"
    },
    "language_info": {
      "name": "python"
    }
  },
  "cells": [
    {
      "cell_type": "markdown",
      "metadata": {
        "id": "view-in-github",
        "colab_type": "text"
      },
      "source": [
        "<a href=\"https://colab.research.google.com/github/alazaradane/google_colab/blob/main/Basics_of_Python.ipynb\" target=\"_parent\"><img src=\"https://colab.research.google.com/assets/colab-badge.svg\" alt=\"Open In Colab\"/></a>"
      ]
    },
    {
      "cell_type": "markdown",
      "source": [
        "# Python Basics for Astronomy"
      ],
      "metadata": {
        "id": "lc9T04WNouUu"
      }
    },
    {
      "cell_type": "code",
      "source": [
        "# My first code in Python\n",
        "print(\"hello world!\")"
      ],
      "metadata": {
        "colab": {
          "base_uri": "https://localhost:8080/"
        },
        "id": "wfUtm8cjo0kg",
        "outputId": "970eb381-eeb9-443f-f7d9-fa66c594bb21"
      },
      "execution_count": null,
      "outputs": [
        {
          "output_type": "stream",
          "name": "stdout",
          "text": [
            "hello world!\n"
          ]
        }
      ]
    },
    {
      "cell_type": "markdown",
      "source": [
        "### 1. Comments"
      ],
      "metadata": {
        "id": "2t4X9HJhq78w"
      }
    },
    {
      "cell_type": "code",
      "source": [
        "\"\"\"\n",
        "This is my first line of comment\n",
        "This is my second line of comment\n",
        "\"\"\""
      ],
      "metadata": {
        "id": "0frvaCXAq7GF"
      },
      "execution_count": null,
      "outputs": []
    },
    {
      "cell_type": "code",
      "source": [
        "# Selected the text below and pressend ctrl + /\n",
        "# This is my first comment\n",
        "# This is my second comment\n",
        "# dsmnfksmdf\n",
        "# sd'fskfmsdlkf;sdfsf\n",
        "# smslkfms"
      ],
      "metadata": {
        "id": "TFf6sIBJrR2I"
      },
      "execution_count": null,
      "outputs": []
    },
    {
      "cell_type": "markdown",
      "source": [
        "### 2. Variables and Constants"
      ],
      "metadata": {
        "id": "WpRCTGituLIs"
      }
    },
    {
      "cell_type": "code",
      "source": [
        "x = 4\n",
        "y = 5\n",
        "print(x + x + y + x + y)"
      ],
      "metadata": {
        "colab": {
          "base_uri": "https://localhost:8080/"
        },
        "id": "csOb1KUiuJ1B",
        "outputId": "8706ab78-4c9b-4af6-f0d1-f749e86c0c48"
      },
      "execution_count": null,
      "outputs": [
        {
          "output_type": "stream",
          "name": "stdout",
          "text": [
            "22\n"
          ]
        }
      ]
    },
    {
      "cell_type": "code",
      "source": [
        "y = 1"
      ],
      "metadata": {
        "id": "6-toHLsEvBmZ"
      },
      "execution_count": null,
      "outputs": []
    },
    {
      "cell_type": "markdown",
      "source": [
        "### 3. Basic Data Types"
      ],
      "metadata": {
        "id": "reu-R80TvwQ_"
      }
    },
    {
      "cell_type": "code",
      "source": [
        "# Create varaibles to store the information about a planet in our Solar System\n",
        "planet_name = 'Venus'\n",
        "planet_age = '4.6 Billion Years'\n",
        "planet_index = 1     # In Python, index starts from 0. Hence, Venus is on Index 1 after Mercury on Index 0"
      ],
      "metadata": {
        "id": "cwlavqV6vxgn"
      },
      "execution_count": null,
      "outputs": []
    },
    {
      "cell_type": "code",
      "source": [
        "# Displaying the data values for each variables\n",
        "print(planet_name)\n",
        "print(planet_age)\n",
        "print(planet_index)"
      ],
      "metadata": {
        "colab": {
          "base_uri": "https://localhost:8080/"
        },
        "id": "oKtB8r3Gwf1I",
        "outputId": "19251150-2540-4e3e-a8f5-340721eb0d1f"
      },
      "execution_count": null,
      "outputs": [
        {
          "output_type": "stream",
          "name": "stdout",
          "text": [
            "Venus\n",
            "4.6 Billion Years\n",
            "1\n"
          ]
        }
      ]
    },
    {
      "cell_type": "code",
      "source": [
        "# Checking the type of variables by using type() command\n",
        "print(type(planet_name))\n",
        "print(type(planet_age))\n",
        "print(type(planet_index))"
      ],
      "metadata": {
        "colab": {
          "base_uri": "https://localhost:8080/"
        },
        "id": "0DfS0DkAx2c4",
        "outputId": "173de3e3-2160-41fe-f555-87bbaad4a6b8"
      },
      "execution_count": null,
      "outputs": [
        {
          "output_type": "stream",
          "name": "stdout",
          "text": [
            "<class 'str'>\n",
            "<class 'str'>\n",
            "<class 'int'>\n"
          ]
        }
      ]
    },
    {
      "cell_type": "code",
      "source": [
        "z = 3.2\n",
        "print(type(z))"
      ],
      "metadata": {
        "colab": {
          "base_uri": "https://localhost:8080/"
        },
        "id": "UDDQK-UiyDB3",
        "outputId": "55a0d1aa-547b-4e61-c46b-4a8a0d26311d"
      },
      "execution_count": null,
      "outputs": [
        {
          "output_type": "stream",
          "name": "stdout",
          "text": [
            "<class 'float'>\n"
          ]
        }
      ]
    },
    {
      "cell_type": "markdown",
      "source": [
        "### 4. f-strings"
      ],
      "metadata": {
        "id": "6xf0pLoGy4GW"
      }
    },
    {
      "cell_type": "code",
      "source": [
        "# Understanding the power of f-strings\n",
        "name_planet = 'Saturn'\n",
        "moons_planet = 150\n",
        "print(f\"Planet {name_planet} has {moons_planet} Moons\")"
      ],
      "metadata": {
        "colab": {
          "base_uri": "https://localhost:8080/"
        },
        "id": "oldv3vNoy52Y",
        "outputId": "c70e39c1-9c6c-4696-c285-d1a08db51e14"
      },
      "execution_count": null,
      "outputs": [
        {
          "output_type": "stream",
          "name": "stdout",
          "text": [
            "Planet Saturn has 150 Moons\n"
          ]
        }
      ]
    },
    {
      "cell_type": "code",
      "source": [
        "# String concatenation\n",
        "str_1 = \"Earth is the only planet with Life.\"\n",
        "str_2 = \"Maybe not! :D\"\n",
        "print(f'{str_1} {str_2}')"
      ],
      "metadata": {
        "colab": {
          "base_uri": "https://localhost:8080/"
        },
        "id": "-CRUNPOEz0cL",
        "outputId": "326bdc79-58a9-4357-d080-d5b58d8b138b"
      },
      "execution_count": null,
      "outputs": [
        {
          "output_type": "stream",
          "name": "stdout",
          "text": [
            "Earth is the only planet with Life. Maybe not! :D\n"
          ]
        }
      ]
    },
    {
      "cell_type": "markdown",
      "source": [
        "### 5. User Inputs"
      ],
      "metadata": {
        "id": "3StFZzue1OsM"
      }
    },
    {
      "cell_type": "code",
      "source": [
        "# Use input() to take user inputs\n",
        "user_name = input(\"Enter your name:- \")"
      ],
      "metadata": {
        "colab": {
          "base_uri": "https://localhost:8080/"
        },
        "id": "Ah5jX08X1Qg3",
        "outputId": "85d3fe3a-a5af-464c-b256-80dee02d29b3"
      },
      "execution_count": null,
      "outputs": [
        {
          "name": "stdout",
          "output_type": "stream",
          "text": [
            "Enter your name:- Rohan\n"
          ]
        }
      ]
    },
    {
      "cell_type": "code",
      "source": [
        "# Displaying the variable and its type given by the user\n",
        "print(user_name)\n",
        "print(type(user_name))"
      ],
      "metadata": {
        "colab": {
          "base_uri": "https://localhost:8080/"
        },
        "id": "3pUxcmYg1ljF",
        "outputId": "03cd3a03-b7b4-41ff-c349-7b1f0fb0c8a8"
      },
      "execution_count": null,
      "outputs": [
        {
          "output_type": "stream",
          "name": "stdout",
          "text": [
            "Rohan\n",
            "<class 'str'>\n"
          ]
        }
      ]
    },
    {
      "cell_type": "code",
      "source": [
        "# Ask user to input their fav number\n",
        "user_fav_number = input('Enter your favourite number:- ')"
      ],
      "metadata": {
        "colab": {
          "base_uri": "https://localhost:8080/"
        },
        "id": "LVtlIU4u1zHU",
        "outputId": "87dbdd54-ca7b-4060-d2c4-9ed181a479f0"
      },
      "execution_count": null,
      "outputs": [
        {
          "name": "stdout",
          "output_type": "stream",
          "text": [
            "Enter your favourite number:- 7\n"
          ]
        }
      ]
    },
    {
      "cell_type": "code",
      "source": [
        "# Diplay the variable and its type given by the user\n",
        "print(user_fav_number)\n",
        "print(type(user_fav_number))"
      ],
      "metadata": {
        "colab": {
          "base_uri": "https://localhost:8080/"
        },
        "id": "a2TKQz8T2C7n",
        "outputId": "f7c13ce6-3e04-4257-e720-f9876df446a4"
      },
      "execution_count": null,
      "outputs": [
        {
          "output_type": "stream",
          "name": "stdout",
          "text": [
            "7\n",
            "<class 'str'>\n"
          ]
        }
      ]
    },
    {
      "cell_type": "markdown",
      "source": [
        "### 6. Data Type Conversion"
      ],
      "metadata": {
        "id": "Dv6hfZ-K4MtZ"
      }
    },
    {
      "cell_type": "code",
      "source": [
        "# Commands to convert --> str(input), int(input), float(input)\n",
        "\n",
        "# Convert a string data into integer and float\n",
        "str_to_int = int(user_fav_number)\n",
        "print(str_to_int)\n",
        "print(type(str_to_int))\n",
        "\n",
        "str_to_float = float(user_fav_number)\n",
        "print(str_to_float)\n",
        "print(type(str_to_float))"
      ],
      "metadata": {
        "colab": {
          "base_uri": "https://localhost:8080/"
        },
        "id": "VhbUKCKL4QRY",
        "outputId": "e47352a1-9459-4b18-fb7b-a1ff205f2312"
      },
      "execution_count": null,
      "outputs": [
        {
          "output_type": "stream",
          "name": "stdout",
          "text": [
            "7\n",
            "<class 'int'>\n",
            "7.0\n",
            "<class 'float'>\n"
          ]
        }
      ]
    },
    {
      "cell_type": "code",
      "source": [
        "# Get user input of two different integers and add them together\n",
        "n1 = int(input('Give any integer number:- '))\n",
        "n2 = int(input('Give one more integer:- '))\n",
        "print(f\"The sum of {n1} and {n2} is {n1+n2}\")"
      ],
      "metadata": {
        "colab": {
          "base_uri": "https://localhost:8080/"
        },
        "id": "yOfmYy41587N",
        "outputId": "2b0dfe66-869a-4cea-c93e-aff73de9e048"
      },
      "execution_count": null,
      "outputs": [
        {
          "output_type": "stream",
          "name": "stdout",
          "text": [
            "Give any integer number:- 7\n",
            "Give one more integer:- 9\n",
            "The sum of 7 and 9 is 16\n"
          ]
        }
      ]
    },
    {
      "cell_type": "markdown",
      "source": [
        "### 7. Control Flow\n",
        "* For Loop and While Loop\n",
        "* Condition Statements"
      ],
      "metadata": {
        "id": "rqED3XGP8VmE"
      }
    },
    {
      "cell_type": "code",
      "source": [
        "# range(start, end, skip) ---> Start is inclusive and end is exclusive\n",
        "range(1, 11)"
      ],
      "metadata": {
        "colab": {
          "base_uri": "https://localhost:8080/"
        },
        "id": "x_Gs_vTt9Jsu",
        "outputId": "01fabfb4-87ae-427a-d53f-8bff8d60222a"
      },
      "execution_count": null,
      "outputs": [
        {
          "output_type": "execute_result",
          "data": {
            "text/plain": [
              "range(1, 11)"
            ]
          },
          "metadata": {},
          "execution_count": 67
        }
      ]
    },
    {
      "cell_type": "code",
      "source": [
        "# For loop\n",
        "for index in range(1, 11, 2):\n",
        "  print(index)"
      ],
      "metadata": {
        "id": "ar_AEqwj8c1Y"
      },
      "execution_count": null,
      "outputs": []
    },
    {
      "cell_type": "code",
      "source": [
        "# convert any string into lower case\n",
        "str_demo = 'Upper Case'\n",
        "print(str_demo)\n",
        "\n",
        "print(str_demo.lower())"
      ],
      "metadata": {
        "colab": {
          "base_uri": "https://localhost:8080/"
        },
        "id": "QZr0b0iGABvM",
        "outputId": "f09e39d7-7095-48aa-acc5-86a393e5b33f"
      },
      "execution_count": null,
      "outputs": [
        {
          "output_type": "stream",
          "name": "stdout",
          "text": [
            "Upper Case\n",
            "upper case\n"
          ]
        }
      ]
    },
    {
      "cell_type": "code",
      "source": [
        "# While Loop\n",
        "\n",
        "ct = 0\n",
        "print('--- Type \"quit\" to exit! ---')\n",
        "while True:\n",
        "  obj = input(f'Enter your favourite Celestial Object {ct+1}:- ')\n",
        "  ct += 1 # ct = ct + 1\n",
        "  if obj.lower() == 'quit':\n",
        "    break\n",
        "\n"
      ],
      "metadata": {
        "colab": {
          "base_uri": "https://localhost:8080/"
        },
        "id": "KFg6PF7t-C4K",
        "outputId": "0f164d40-5390-4907-931a-735bde25c9a3"
      },
      "execution_count": null,
      "outputs": [
        {
          "name": "stdout",
          "output_type": "stream",
          "text": [
            "--- Type \"quit\" to exit! ---\n",
            "Enter your favourite Celestial Object 1:- Earth\n",
            "Enter your favourite Celestial Object 2:- Black Hole\n",
            "Enter your favourite Celestial Object 3:- QuiT\n"
          ]
        }
      ]
    },
    {
      "cell_type": "markdown",
      "source": [
        "### 8. Functions"
      ],
      "metadata": {
        "id": "3qGOPO_CCW27"
      }
    },
    {
      "cell_type": "code",
      "source": [
        "# Creating a function to greet viewers of this video without any input arguments\n",
        "def greet():\n",
        "  print('Hey Astrophiles!')"
      ],
      "metadata": {
        "id": "kDCx3ZzrCYD5"
      },
      "execution_count": null,
      "outputs": []
    },
    {
      "cell_type": "code",
      "source": [
        "# Call that function\n",
        "greet()"
      ],
      "metadata": {
        "colab": {
          "base_uri": "https://localhost:8080/"
        },
        "id": "wxhf5RyYC3PV",
        "outputId": "0ac87c0a-2684-4193-9a4c-abce1d9f3c10"
      },
      "execution_count": null,
      "outputs": [
        {
          "output_type": "stream",
          "name": "stdout",
          "text": [
            "Hey Astrophiles!\n"
          ]
        }
      ]
    },
    {
      "cell_type": "code",
      "source": [
        "# Define a function to greet a person whose name will be given as an input\n",
        "def greet_person(name):\n",
        "  print(f'Hey {name}, I hope you are enjoying this session and learning a lot of things in Python!')"
      ],
      "metadata": {
        "id": "6B9hv3HjDKqI"
      },
      "execution_count": null,
      "outputs": []
    },
    {
      "cell_type": "code",
      "source": [
        "# Call that function\n",
        "greet_person('Rohan')"
      ],
      "metadata": {
        "colab": {
          "base_uri": "https://localhost:8080/"
        },
        "id": "fTJMCBkbDbKF",
        "outputId": "0aa9e4f4-c9d1-44a3-bd14-f50e1e178182"
      },
      "execution_count": null,
      "outputs": [
        {
          "output_type": "stream",
          "name": "stdout",
          "text": [
            "Hey Rohan, I hope you are enjoying this session and learning a lot of things in Python!\n"
          ]
        }
      ]
    },
    {
      "cell_type": "code",
      "source": [
        "# Call this function with different name\n",
        "greet_person('Karan')"
      ],
      "metadata": {
        "colab": {
          "base_uri": "https://localhost:8080/"
        },
        "id": "HNT-irJxDjND",
        "outputId": "9cbe272c-64bd-406f-d31c-d8ffd39c2b1d"
      },
      "execution_count": null,
      "outputs": [
        {
          "output_type": "stream",
          "name": "stdout",
          "text": [
            "Hey Karan, I hope you are enjoying this session and learning a lot of things in Python!\n"
          ]
        }
      ]
    },
    {
      "cell_type": "code",
      "source": [
        "# Call this function to greet everyone here watching the video\n",
        "greet_person('everyone')"
      ],
      "metadata": {
        "colab": {
          "base_uri": "https://localhost:8080/"
        },
        "id": "xC8XxjY-Dwoy",
        "outputId": "b1daf29c-34dc-4bf0-f234-8bf096e63e50"
      },
      "execution_count": null,
      "outputs": [
        {
          "output_type": "stream",
          "name": "stdout",
          "text": [
            "Hey everyone, I hope you are enjoying this session and learning a lot of things in Python!\n"
          ]
        }
      ]
    },
    {
      "cell_type": "code",
      "source": [
        "# Postional Arguments\n",
        "def greeting(name, msg):\n",
        "  print(f'Hey {name}, {msg}')"
      ],
      "metadata": {
        "id": "_6pAAJVXEA4j"
      },
      "execution_count": null,
      "outputs": []
    },
    {
      "cell_type": "code",
      "source": [
        "# Call this function by placing the input arguments in the same order while building it\n",
        "greeting('Lavanya', 'Are you an Astrophile?')"
      ],
      "metadata": {
        "colab": {
          "base_uri": "https://localhost:8080/"
        },
        "id": "pXFSHRY4Ebuv",
        "outputId": "f62116f8-cb25-489f-ff9c-7d3440cba71e"
      },
      "execution_count": null,
      "outputs": [
        {
          "output_type": "stream",
          "name": "stdout",
          "text": [
            "Hey Lavanya, Are you an Astrophile?\n"
          ]
        }
      ]
    },
    {
      "cell_type": "code",
      "source": [
        "# Call the function by shifting the postions of the arguments\n",
        "greeting('Are you an Astrophile?', 'Lavanya')"
      ],
      "metadata": {
        "colab": {
          "base_uri": "https://localhost:8080/"
        },
        "id": "vh0jwn4tErpX",
        "outputId": "b4b6c86b-63f3-4da0-81ee-f5728e0cd82b"
      },
      "execution_count": null,
      "outputs": [
        {
          "output_type": "stream",
          "name": "stdout",
          "text": [
            "Hey Are you an Astrophile?, Lavanya\n"
          ]
        }
      ]
    },
    {
      "cell_type": "code",
      "source": [
        "# Call this function with keyword arguments\n",
        "greeting(msg = 'Are you an Astrophile?', name = 'Lavanya')"
      ],
      "metadata": {
        "colab": {
          "base_uri": "https://localhost:8080/"
        },
        "id": "Uifm789-E9pt",
        "outputId": "18883484-3f40-4250-b648-18b6815e6a52"
      },
      "execution_count": null,
      "outputs": [
        {
          "output_type": "stream",
          "name": "stdout",
          "text": [
            "Hey Lavanya, Are you an Astrophile?\n"
          ]
        }
      ]
    },
    {
      "cell_type": "code",
      "source": [
        "# Default arguments\n",
        "def greeting_with_default_args(name, msg='Welcome to this program on Astronomy Visualization!'):\n",
        "  print(f'Hey {name}, {msg}')"
      ],
      "metadata": {
        "id": "javVZFEtFL-s"
      },
      "execution_count": null,
      "outputs": []
    },
    {
      "cell_type": "code",
      "source": [
        "# Call this function without passing msg arg\n",
        "greeting_with_default_args('Rohan', msg = 'Whats up?')"
      ],
      "metadata": {
        "colab": {
          "base_uri": "https://localhost:8080/"
        },
        "id": "5nslux-8Fe_I",
        "outputId": "f86c0270-ebce-45b7-acbc-1c2507d72436"
      },
      "execution_count": null,
      "outputs": [
        {
          "output_type": "stream",
          "name": "stdout",
          "text": [
            "Hey Rohan, Whats up?\n"
          ]
        }
      ]
    },
    {
      "cell_type": "code",
      "source": [
        "# Create a function that will either add, subtract, multiply or divide two input numbers\n",
        "def basic_calc(n1, n2, operation):\n",
        "  \"\"\"\n",
        "  Creates a basic calculator that takes n1 and n2 in the same order and performs either of:-\n",
        "  - add\n",
        "  - subtract\n",
        "  - multiply\n",
        "  - divide\n",
        "\n",
        "  Parameters -\n",
        "  -----------\n",
        "  n1 - first number\n",
        "  n2 - second number\n",
        "  operations - any of the operations mentioned above for our basic calc\n",
        "\n",
        "  Return -\n",
        "  ------\n",
        "  The output of the operation done on n1 and n2\n",
        "  \"\"\"\n",
        "\n",
        "  if operation.lower() == 'add':\n",
        "    return n1+n2\n",
        "  elif operation.lower() == 'subtract':\n",
        "    return n1-n2\n",
        "  elif operation.lower() == 'multiply':\n",
        "    return n1*n2\n",
        "  elif operation.lower() == 'divide':\n",
        "    return n1/n2\n",
        "  else:\n",
        "    print(f'Opertation input can either take:- add, multiply, subtract or divide. You gave:- {operation}. Try again')"
      ],
      "metadata": {
        "id": "R7j1GithGB3G"
      },
      "execution_count": null,
      "outputs": []
    },
    {
      "cell_type": "code",
      "source": [
        "addition = basic_calc(2, 3, 'add')\n",
        "print(addition)"
      ],
      "metadata": {
        "colab": {
          "base_uri": "https://localhost:8080/"
        },
        "id": "rNkj42BsGfAH",
        "outputId": "08ca4f59-085b-430c-910e-813eab4469e8"
      },
      "execution_count": null,
      "outputs": [
        {
          "output_type": "stream",
          "name": "stdout",
          "text": [
            "5\n"
          ]
        }
      ]
    },
    {
      "cell_type": "code",
      "source": [
        "multiply = basic_calc(3, 3, 'multiply')\n",
        "print(multiply)"
      ],
      "metadata": {
        "colab": {
          "base_uri": "https://localhost:8080/"
        },
        "id": "ATifDCznHEYa",
        "outputId": "5e0e3735-30c4-49a7-e03e-648c4f66d214"
      },
      "execution_count": null,
      "outputs": [
        {
          "output_type": "stream",
          "name": "stdout",
          "text": [
            "9\n"
          ]
        }
      ]
    },
    {
      "cell_type": "code",
      "source": [
        "basic_calc(3, 3, 'daskdjakdjak')"
      ],
      "metadata": {
        "colab": {
          "base_uri": "https://localhost:8080/"
        },
        "id": "658yMro8HMXD",
        "outputId": "a700ec8c-e499-4cb5-b2e2-6611ed63c4e7"
      },
      "execution_count": null,
      "outputs": [
        {
          "output_type": "stream",
          "name": "stdout",
          "text": [
            "opertation input can either take:- add, multiply, subtract or divide. You gave:- daskdjakdjak. Try again\n"
          ]
        }
      ]
    }
  ]
}